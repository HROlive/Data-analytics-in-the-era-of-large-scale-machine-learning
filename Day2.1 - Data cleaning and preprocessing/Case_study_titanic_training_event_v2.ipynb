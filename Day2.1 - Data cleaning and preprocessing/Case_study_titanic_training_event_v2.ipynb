{
  "nbformat": 4,
  "nbformat_minor": 0,
  "metadata": {
    "colab": {
      "provenance": []
    },
    "kernelspec": {
      "name": "python3",
      "display_name": "Python 3"
    },
    "language_info": {
      "name": "python"
    }
  },
  "cells": [
    {
      "cell_type": "markdown",
      "source": [
        "**Case Study - Impact of Data Cleaning and Preprocessing Techniques on a Real-World Dataset**\n",
        "\n",
        "Let's walk through a case study using the Titanic dataset from Kaggle. We'll observe the impact of data cleaning and preprocessing on a logistic regression model that predicts survival on the Titanic.\n",
        "\n",
        "This notebook presents a simple machine learning model to predict the survival of passengers on the Titanic. It involves data cleaning, feature engineering, and application of logistic regression. The dataset is obtained from the Data Science Dojo's repository.\n"
      ],
      "metadata": {
        "id": "PgG27OZwj4Xh"
      }
    },
    {
      "cell_type": "markdown",
      "source": [
        "## Titanic Dataset Description\n",
        "\n",
        "The Titanic dataset is a classic dataset used in data science and machine learning. It consists of demographic and traveling information for 1,309 passengers of the Titanic, and the goal is to predict the survival of these passengers. The data is a mix of textual, Boolean, continuous, and categorical variables, making it a rich database for data transformations. The dataset exhibits interesting characteristics such as missing values, outliers, and text variables ripe for text mining.\n",
        "\n",
        "Here is a brief summary of the 14 attributes:\n",
        "\n",
        "1. `pclass`: Passenger class (1 = 1st; 2 = 2nd; 3 = 3rd)\n",
        "2. `survived`: A Boolean indicating whether the passenger survived or not (0 = No; 1 = Yes); this is our target\n",
        "3. `name`: A field rich in information as it contains title and family names\n",
        "4. `sex`: male/female\n",
        "5. `age`: Age, a significant portion of values are missing\n",
        "6. `sibsp`: Number of siblings/spouses aboard\n",
        "7. `parch`: Number of parents/children aboard\n",
        "8. `ticket`: Ticket number\n",
        "9. `fare`: Passenger fare (British Pound)\n",
        "10. `cabin`: Does the location of the cabin influence chances of survival?\n",
        "11. `embarked`: Port of embarkation (C = Cherbourg; Q = Queenstown; S = Southampton)\n",
        "12. `boat`: Lifeboat, many missing values\n",
        "13. `body`: Body Identification Number\n",
        "14. `home.dest`: Home/destination&#8203;`oaicite:{\"index\":1,\"metadata\":{\"title\":\"hub.packtpub.com\",\"url\":\"https://hub.packtpub.com/introduction-titanic-datasets/\",\"text\":\"pclass: Passenger class (1 = 1st; 2 = 2nd; 3 = 3rd)\\n  * survival: A Boolean indicating whether the passenger survived or not (0 = No; 1 = Yes); this is our target\\n  * name: A field rich in information as it contains title and family names\\n  * sex: male/female\\n  * age: Age, asignificant portion of values aremissing\\n  * sibsp: Number of siblings/spouses aboard\\n  * parch: Number of parents/children aboard\\n  * ticket: Ticket number.\\n  * fare: Passenger fare (British Pound).\\n  * cabin: Doesthe location of the cabin influence chances of survival?\\n  * embarked: Port of embarkation (C = Cherbourg; Q = Queenstown; S = Southampton)\\n  * boat: Lifeboat, many missing values\\n  * body: Body Identification Number\\n  * home.dest: Home/destination\\n\\nTake a look at http://campus.lakeforest.edu/frank/FILES/MLFfiles/Bio150/Titanic/TitanicMETA.pdf for more details on these variables\",\"pub_date\":null}}`&#8203;.\n",
        "\n",
        "Among the 14 attributes, we have 1,309 records. However, three of the attributes - `home.dest`, `boat`, and `body` - will typically be discarded due to too few existing values or because their presence is highly correlated with survival&#8203;`oaicite:{\"index\":2,\"metadata\":{\"title\":\"hub.packtpub.com\",\"url\":\"https://hub.packtpub.com/introduction-titanic-datasets/\",\"text\":\"We have 1,309 records and 14 attributes, three of which we will discard. The home.dest attribute hastoo few existing values, the boat attribute is only present for passengers who have survived, and thebody attributeis only for passengers who have not survived. We will discard these three columnslater on while using the data schema\",\"pub_date\":null}}`&#8203;.\n",
        "\n",
        "## Data Sample\n",
        "\n",
        "| pclass | survived | name | sex | age | sibsp | parch | ticket | fare | cabin | embarked | boat | body | home.dest |\n",
        "| --- | --- | --- | --- | --- | --- | --- | --- | --- | --- | --- | --- | --- | --- |\n",
        "| ... | ... | ... | ... | ... | ... | ... | ... | ... | ... | ... | ... | ... | ... |\n"
      ],
      "metadata": {
        "id": "KJW6i8TqCvHL"
      }
    },
    {
      "cell_type": "markdown",
      "source": [
        "In this section, we import necessary Python libraries such as pandas for data manipulation, sklearn for machine learning model building, and metrics for model evaluation.\n"
      ],
      "metadata": {
        "id": "3ilVP9WM_QtO"
      }
    },
    {
      "cell_type": "code",
      "source": [
        "import pandas as pd\n",
        "from sklearn.model_selection import train_test_split\n",
        "from sklearn.linear_model import LogisticRegression\n",
        "from sklearn.metrics import accuracy_score, precision_score, recall_score, f1_score\n",
        "from sklearn.preprocessing import StandardScaler"
      ],
      "metadata": {
        "id": "pD_02P6D-gDC"
      },
      "execution_count": 1,
      "outputs": []
    },
    {
      "cell_type": "markdown",
      "source": [
        "Here we load the Titanic dataset which is hosted on the Data Science Dojo's GitHub repository. The data is in CSV format.\n"
      ],
      "metadata": {
        "id": "WVrgCcF-_UUV"
      }
    },
    {
      "cell_type": "code",
      "source": [
        "df = pd.read_csv('https://raw.githubusercontent.com/datasciencedojo/datasets/master/titanic.csv')\n"
      ],
      "metadata": {
        "id": "8GhFGVih-j6D"
      },
      "execution_count": 2,
      "outputs": []
    },
    {
      "cell_type": "markdown",
      "source": [
        "Initial data cleaning involves dropping unnecessary columns that will not contribute to our machine learning model. For our baseline model, we drop columns such as 'Name', 'Age', 'Sex', 'Ticket', 'Cabin', and 'Embarked'.\n"
      ],
      "metadata": {
        "id": "mlXWFNxu_g76"
      }
    },
    {
      "cell_type": "code",
      "source": [
        "# Drop columns with missing or incomplete sets\n",
        "df = df.drop(['Name','Age','Sex','Ticket','Cabin','Embarked'], axis=1)\n"
      ],
      "metadata": {
        "id": "SbAadxzf-okZ"
      },
      "execution_count": 3,
      "outputs": []
    },
    {
      "cell_type": "markdown",
      "source": [
        "In this section, we separate the dataset into features (X) and target (y). The 'Survived' column is our target variable.\n"
      ],
      "metadata": {
        "id": "jw8JP5o8_k1N"
      }
    },
    {
      "cell_type": "code",
      "source": [
        "X = df.drop('Survived', axis=1)\n",
        "y = df['Survived']\n"
      ],
      "metadata": {
        "id": "81ysp8J4-tIT"
      },
      "execution_count": 4,
      "outputs": []
    },
    {
      "cell_type": "markdown",
      "source": [
        "We split our data into training and testing sets. The training set is used to train our machine learning model, and the testing set is used to evaluate the model's performance.\n"
      ],
      "metadata": {
        "id": "IvtsnRMV_nS2"
      }
    },
    {
      "cell_type": "code",
      "source": [
        "X_train, X_test, y_train, y_test = train_test_split(X, y, test_size=0.2, random_state=42)\n"
      ],
      "metadata": {
        "id": "HdQKXU1C-xzG"
      },
      "execution_count": 5,
      "outputs": []
    },
    {
      "cell_type": "markdown",
      "source": [
        "In this section, we begin our journey into machine learning by building an initial model. Our choice of model is Logistic Regression, a fundamental and widely used classification algorithm. \n",
        "\n",
        "Logistic Regression is used when the dependent variable (target) is categorical. In our case, the target is 'Survived', which is binary (0 or 1, indicating if a passenger survived or not). \n",
        "\n",
        "We chose Logistic Regression because of its simplicity and because it serves as a good baseline model. It's straightforward to implement and interpret, and it performs well on linearly separable classes. \n",
        "\n",
        "We initialize the Logistic Regression model with a maximum iteration parameter of 1000. This parameter dictates the maximum number of iterations for the solver (the algorithm used for optimization problem) to converge. If our model does not converge (i.e., reach the optimal solution) before hitting this limit, the algorithm will stop and return the best solution found so far. \n",
        "\n",
        "After initializing our model, we train it using the `fit` method, which is where the learning happens. The `fit` method adjusts the model's parameters to minimize the cost function. In this case, we have to handle the missing values in our training data. We use the mean of the non-missing values in the training set to fill in these gaps. \n",
        "\n",
        "This completes the building of our initial model. We will evaluate this model's performance in the next section.\n"
      ],
      "metadata": {
        "id": "0ktNXnyuBfDB"
      }
    },
    {
      "cell_type": "code",
      "source": [
        "model = LogisticRegression(max_iter=1000)\n",
        "model.fit(X_train.fillna(X_train.mean()), y_train)\n"
      ],
      "metadata": {
        "colab": {
          "base_uri": "https://localhost:8080/",
          "height": 74
        },
        "id": "dS7_XSes-zyh",
        "outputId": "4569e754-e721-4e2c-cdf8-47071544b8af"
      },
      "execution_count": 6,
      "outputs": [
        {
          "output_type": "execute_result",
          "data": {
            "text/plain": [
              "LogisticRegression(max_iter=1000)"
            ],
            "text/html": [
              "<style>#sk-container-id-1 {color: black;background-color: white;}#sk-container-id-1 pre{padding: 0;}#sk-container-id-1 div.sk-toggleable {background-color: white;}#sk-container-id-1 label.sk-toggleable__label {cursor: pointer;display: block;width: 100%;margin-bottom: 0;padding: 0.3em;box-sizing: border-box;text-align: center;}#sk-container-id-1 label.sk-toggleable__label-arrow:before {content: \"▸\";float: left;margin-right: 0.25em;color: #696969;}#sk-container-id-1 label.sk-toggleable__label-arrow:hover:before {color: black;}#sk-container-id-1 div.sk-estimator:hover label.sk-toggleable__label-arrow:before {color: black;}#sk-container-id-1 div.sk-toggleable__content {max-height: 0;max-width: 0;overflow: hidden;text-align: left;background-color: #f0f8ff;}#sk-container-id-1 div.sk-toggleable__content pre {margin: 0.2em;color: black;border-radius: 0.25em;background-color: #f0f8ff;}#sk-container-id-1 input.sk-toggleable__control:checked~div.sk-toggleable__content {max-height: 200px;max-width: 100%;overflow: auto;}#sk-container-id-1 input.sk-toggleable__control:checked~label.sk-toggleable__label-arrow:before {content: \"▾\";}#sk-container-id-1 div.sk-estimator input.sk-toggleable__control:checked~label.sk-toggleable__label {background-color: #d4ebff;}#sk-container-id-1 div.sk-label input.sk-toggleable__control:checked~label.sk-toggleable__label {background-color: #d4ebff;}#sk-container-id-1 input.sk-hidden--visually {border: 0;clip: rect(1px 1px 1px 1px);clip: rect(1px, 1px, 1px, 1px);height: 1px;margin: -1px;overflow: hidden;padding: 0;position: absolute;width: 1px;}#sk-container-id-1 div.sk-estimator {font-family: monospace;background-color: #f0f8ff;border: 1px dotted black;border-radius: 0.25em;box-sizing: border-box;margin-bottom: 0.5em;}#sk-container-id-1 div.sk-estimator:hover {background-color: #d4ebff;}#sk-container-id-1 div.sk-parallel-item::after {content: \"\";width: 100%;border-bottom: 1px solid gray;flex-grow: 1;}#sk-container-id-1 div.sk-label:hover label.sk-toggleable__label {background-color: #d4ebff;}#sk-container-id-1 div.sk-serial::before {content: \"\";position: absolute;border-left: 1px solid gray;box-sizing: border-box;top: 0;bottom: 0;left: 50%;z-index: 0;}#sk-container-id-1 div.sk-serial {display: flex;flex-direction: column;align-items: center;background-color: white;padding-right: 0.2em;padding-left: 0.2em;position: relative;}#sk-container-id-1 div.sk-item {position: relative;z-index: 1;}#sk-container-id-1 div.sk-parallel {display: flex;align-items: stretch;justify-content: center;background-color: white;position: relative;}#sk-container-id-1 div.sk-item::before, #sk-container-id-1 div.sk-parallel-item::before {content: \"\";position: absolute;border-left: 1px solid gray;box-sizing: border-box;top: 0;bottom: 0;left: 50%;z-index: -1;}#sk-container-id-1 div.sk-parallel-item {display: flex;flex-direction: column;z-index: 1;position: relative;background-color: white;}#sk-container-id-1 div.sk-parallel-item:first-child::after {align-self: flex-end;width: 50%;}#sk-container-id-1 div.sk-parallel-item:last-child::after {align-self: flex-start;width: 50%;}#sk-container-id-1 div.sk-parallel-item:only-child::after {width: 0;}#sk-container-id-1 div.sk-dashed-wrapped {border: 1px dashed gray;margin: 0 0.4em 0.5em 0.4em;box-sizing: border-box;padding-bottom: 0.4em;background-color: white;}#sk-container-id-1 div.sk-label label {font-family: monospace;font-weight: bold;display: inline-block;line-height: 1.2em;}#sk-container-id-1 div.sk-label-container {text-align: center;}#sk-container-id-1 div.sk-container {/* jupyter's `normalize.less` sets `[hidden] { display: none; }` but bootstrap.min.css set `[hidden] { display: none !important; }` so we also need the `!important` here to be able to override the default hidden behavior on the sphinx rendered scikit-learn.org. See: https://github.com/scikit-learn/scikit-learn/issues/21755 */display: inline-block !important;position: relative;}#sk-container-id-1 div.sk-text-repr-fallback {display: none;}</style><div id=\"sk-container-id-1\" class=\"sk-top-container\"><div class=\"sk-text-repr-fallback\"><pre>LogisticRegression(max_iter=1000)</pre><b>In a Jupyter environment, please rerun this cell to show the HTML representation or trust the notebook. <br />On GitHub, the HTML representation is unable to render, please try loading this page with nbviewer.org.</b></div><div class=\"sk-container\" hidden><div class=\"sk-item\"><div class=\"sk-estimator sk-toggleable\"><input class=\"sk-toggleable__control sk-hidden--visually\" id=\"sk-estimator-id-1\" type=\"checkbox\" checked><label for=\"sk-estimator-id-1\" class=\"sk-toggleable__label sk-toggleable__label-arrow\">LogisticRegression</label><div class=\"sk-toggleable__content\"><pre>LogisticRegression(max_iter=1000)</pre></div></div></div></div></div>"
            ]
          },
          "metadata": {},
          "execution_count": 6
        }
      ]
    },
    {
      "cell_type": "markdown",
      "source": [
        "We evaluate the performance of our baseline model by predicting the target variable for our test set and comparing the predictions with the actual values. The metric used here is accuracy.\n"
      ],
      "metadata": {
        "id": "mZxKGcZB_rmx"
      }
    },
    {
      "cell_type": "code",
      "source": [
        "y_pred = model.predict(X_test.fillna(X_test.mean()))\n",
        "print(f'Baseline Accuracy: {accuracy_score(y_test, y_pred)}')\n"
      ],
      "metadata": {
        "colab": {
          "base_uri": "https://localhost:8080/"
        },
        "id": "nwD1XVAl-5md",
        "outputId": "267193c0-f469-4d3e-ce24-358163e0cbaa"
      },
      "execution_count": 7,
      "outputs": [
        {
          "output_type": "stream",
          "name": "stdout",
          "text": [
            "Baseline Accuracy: 0.7150837988826816\n"
          ]
        }
      ]
    },
    {
      "cell_type": "markdown",
      "source": [
        "In this section, we perform more detailed data cleaning and preprocessing to further prepare our data for the machine learning model. Here are the steps we take:\n",
        "\n",
        "1. **Reload the Dataset**: We start by reloading the original dataset to get back the columns we initially dropped.\n",
        "\n",
        "2. **Drop Unnecessary Columns**: We drop the 'Name' and 'Ticket' columns. The 'Name' column is unique for almost every passenger and thus does not provide useful information for our model. The 'Ticket' column is also dropped as it contains a high number of unique values and would be difficult to encode.\n",
        "\n",
        "3. **Fill Missing Values**: The 'Age' column contains missing values. We fill these missing values with the median age. The median is chosen over the mean to avoid being affected by any outliers in ages.\n",
        "\n",
        "4. **Convert Categorical Variables to Numerical**: We convert the 'Cabin' column to binary by marking the absence of a cabin as 1 and the presence as 0. We also perform label encoding on the 'Sex' column by mapping 'male' to 0 and 'female' to 1.\n",
        "\n",
        "5. **One-Hot Encoding**: For the 'Embarked' column, we perform one-hot encoding. This method of encoding converts each category value into a new column and assigns a 1 or 0 to the column. We use pandas' `get_dummies` function to do this.\n",
        "\n",
        "6. **Create New Features**: We create a new 'FamilySize' feature by adding the number of siblings/spouses ('SibSp') and the number of parents/children ('Parch') for each passenger plus 1 (the passenger themself). We also create an 'IsAlone' feature that denotes whether a passenger is traveling alone, which is the case when the 'FamilySize' is 1.\n",
        "\n",
        "7. **Standard Scaling**: Finally, we apply standard scaling to the 'Age' and 'Fare' columns to standardize their values to have a mean of 0 and a standard deviation of 1. Standard scaling is important for many machine learning models as they can perform poorly if the features are not on similar scales. This is particularly true for models that use distance measures, like k-nearest neighbors (KNN), and models that use regularization, like logistic regression and support vector machines (SVMs).\n"
      ],
      "metadata": {
        "id": "_B0nKTGh_vv2"
      }
    },
    {
      "cell_type": "code",
      "source": [
        "df = pd.read_csv('https://raw.githubusercontent.com/datasciencedojo/datasets/master/titanic.csv')\n",
        "\n",
        "# Drop 'Name' and 'Ticket' columns\n",
        "df = df.drop(['Name', 'Ticket'], axis=1)\n",
        "\n",
        "# Fill missing values in Age with median\n",
        "df['Age'].fillna(df['Age'].median(), inplace=True)\n",
        "\n",
        "# Convert Cabin to binary\n",
        "df['Cabin'] = df['Cabin'].isnull().astype(int)\n",
        "\n",
        "# Label encoding for 'Sex'\n",
        "df['Sex'] = df['Sex'].map({'male': 0, 'female': 1})\n",
        "\n",
        "# One-hot encoding for 'Embarked'\n",
        "df = pd.get_dummies(df, columns=['Embarked'], drop_first=True)\n",
        "\n",
        "# Creating 'FamilySize' feature\n",
        "df['FamilySize'] = df['SibSp'] + df['Parch'] + 1\n",
        "\n",
        "# Creating 'IsAlone' feature\n",
        "df['IsAlone'] = 0\n",
        "df.loc[df['FamilySize'] == 1, 'IsAlone'] = 1\n",
        "\n",
        "# Apply Standard Scaling to 'Age' and 'Fare'\n",
        "scaler = StandardScaler()\n",
        "df[['Age', 'Fare']] = scaler.fit_transform(df[['Age', 'Fare']])\n"
      ],
      "metadata": {
        "id": "yrY8Dxtz-8hg"
      },
      "execution_count": 8,
      "outputs": []
    },
    {
      "cell_type": "markdown",
      "source": [
        "With our cleaned data, we again separate the dataset into features (X) and target (y). The 'Survived' column is our target variable.\n"
      ],
      "metadata": {
        "id": "FB_ZrO9R_6mC"
      }
    },
    {
      "cell_type": "code",
      "source": [
        "X = df.drop('Survived', axis=1)\n",
        "y = df['Survived']\n"
      ],
      "metadata": {
        "id": "3o_Bm4OT-_gB"
      },
      "execution_count": 9,
      "outputs": []
    },
    {
      "cell_type": "markdown",
      "source": [
        "We again split our cleaned data into training and testing sets.\n"
      ],
      "metadata": {
        "id": "JApeQPdnAAA2"
      }
    },
    {
      "cell_type": "code",
      "source": [
        "X_train, X_test, y_train, y_test = train_test_split(X, y, test_size=0.2, random_state=42)\n"
      ],
      "metadata": {
        "id": "FTNwXGS5_Bxl"
      },
      "execution_count": 10,
      "outputs": []
    },
    {
      "cell_type": "markdown",
      "source": [
        "We build a Logistic Regression model using the cleaned data.\n"
      ],
      "metadata": {
        "id": "aSHC-FHcAEGW"
      }
    },
    {
      "cell_type": "code",
      "source": [
        "model = LogisticRegression(max_iter=1000)\n",
        "model.fit(X_train, y_train)\n"
      ],
      "metadata": {
        "colab": {
          "base_uri": "https://localhost:8080/",
          "height": 74
        },
        "id": "CYnhEkRq_EAP",
        "outputId": "007e2828-ee5b-4ac4-8830-fc7fef708339"
      },
      "execution_count": 11,
      "outputs": [
        {
          "output_type": "execute_result",
          "data": {
            "text/plain": [
              "LogisticRegression(max_iter=1000)"
            ],
            "text/html": [
              "<style>#sk-container-id-2 {color: black;background-color: white;}#sk-container-id-2 pre{padding: 0;}#sk-container-id-2 div.sk-toggleable {background-color: white;}#sk-container-id-2 label.sk-toggleable__label {cursor: pointer;display: block;width: 100%;margin-bottom: 0;padding: 0.3em;box-sizing: border-box;text-align: center;}#sk-container-id-2 label.sk-toggleable__label-arrow:before {content: \"▸\";float: left;margin-right: 0.25em;color: #696969;}#sk-container-id-2 label.sk-toggleable__label-arrow:hover:before {color: black;}#sk-container-id-2 div.sk-estimator:hover label.sk-toggleable__label-arrow:before {color: black;}#sk-container-id-2 div.sk-toggleable__content {max-height: 0;max-width: 0;overflow: hidden;text-align: left;background-color: #f0f8ff;}#sk-container-id-2 div.sk-toggleable__content pre {margin: 0.2em;color: black;border-radius: 0.25em;background-color: #f0f8ff;}#sk-container-id-2 input.sk-toggleable__control:checked~div.sk-toggleable__content {max-height: 200px;max-width: 100%;overflow: auto;}#sk-container-id-2 input.sk-toggleable__control:checked~label.sk-toggleable__label-arrow:before {content: \"▾\";}#sk-container-id-2 div.sk-estimator input.sk-toggleable__control:checked~label.sk-toggleable__label {background-color: #d4ebff;}#sk-container-id-2 div.sk-label input.sk-toggleable__control:checked~label.sk-toggleable__label {background-color: #d4ebff;}#sk-container-id-2 input.sk-hidden--visually {border: 0;clip: rect(1px 1px 1px 1px);clip: rect(1px, 1px, 1px, 1px);height: 1px;margin: -1px;overflow: hidden;padding: 0;position: absolute;width: 1px;}#sk-container-id-2 div.sk-estimator {font-family: monospace;background-color: #f0f8ff;border: 1px dotted black;border-radius: 0.25em;box-sizing: border-box;margin-bottom: 0.5em;}#sk-container-id-2 div.sk-estimator:hover {background-color: #d4ebff;}#sk-container-id-2 div.sk-parallel-item::after {content: \"\";width: 100%;border-bottom: 1px solid gray;flex-grow: 1;}#sk-container-id-2 div.sk-label:hover label.sk-toggleable__label {background-color: #d4ebff;}#sk-container-id-2 div.sk-serial::before {content: \"\";position: absolute;border-left: 1px solid gray;box-sizing: border-box;top: 0;bottom: 0;left: 50%;z-index: 0;}#sk-container-id-2 div.sk-serial {display: flex;flex-direction: column;align-items: center;background-color: white;padding-right: 0.2em;padding-left: 0.2em;position: relative;}#sk-container-id-2 div.sk-item {position: relative;z-index: 1;}#sk-container-id-2 div.sk-parallel {display: flex;align-items: stretch;justify-content: center;background-color: white;position: relative;}#sk-container-id-2 div.sk-item::before, #sk-container-id-2 div.sk-parallel-item::before {content: \"\";position: absolute;border-left: 1px solid gray;box-sizing: border-box;top: 0;bottom: 0;left: 50%;z-index: -1;}#sk-container-id-2 div.sk-parallel-item {display: flex;flex-direction: column;z-index: 1;position: relative;background-color: white;}#sk-container-id-2 div.sk-parallel-item:first-child::after {align-self: flex-end;width: 50%;}#sk-container-id-2 div.sk-parallel-item:last-child::after {align-self: flex-start;width: 50%;}#sk-container-id-2 div.sk-parallel-item:only-child::after {width: 0;}#sk-container-id-2 div.sk-dashed-wrapped {border: 1px dashed gray;margin: 0 0.4em 0.5em 0.4em;box-sizing: border-box;padding-bottom: 0.4em;background-color: white;}#sk-container-id-2 div.sk-label label {font-family: monospace;font-weight: bold;display: inline-block;line-height: 1.2em;}#sk-container-id-2 div.sk-label-container {text-align: center;}#sk-container-id-2 div.sk-container {/* jupyter's `normalize.less` sets `[hidden] { display: none; }` but bootstrap.min.css set `[hidden] { display: none !important; }` so we also need the `!important` here to be able to override the default hidden behavior on the sphinx rendered scikit-learn.org. See: https://github.com/scikit-learn/scikit-learn/issues/21755 */display: inline-block !important;position: relative;}#sk-container-id-2 div.sk-text-repr-fallback {display: none;}</style><div id=\"sk-container-id-2\" class=\"sk-top-container\"><div class=\"sk-text-repr-fallback\"><pre>LogisticRegression(max_iter=1000)</pre><b>In a Jupyter environment, please rerun this cell to show the HTML representation or trust the notebook. <br />On GitHub, the HTML representation is unable to render, please try loading this page with nbviewer.org.</b></div><div class=\"sk-container\" hidden><div class=\"sk-item\"><div class=\"sk-estimator sk-toggleable\"><input class=\"sk-toggleable__control sk-hidden--visually\" id=\"sk-estimator-id-2\" type=\"checkbox\" checked><label for=\"sk-estimator-id-2\" class=\"sk-toggleable__label sk-toggleable__label-arrow\">LogisticRegression</label><div class=\"sk-toggleable__content\"><pre>LogisticRegression(max_iter=1000)</pre></div></div></div></div></div>"
            ]
          },
          "metadata": {},
          "execution_count": 11
        }
      ]
    },
    {
      "cell_type": "markdown",
      "source": [
        "We evaluate the performance of our model by predicting the target variable for our test set and comparing the predictions with the actual values. The metrics used here are accuracy, precision, recall, and F1 score.\n"
      ],
      "metadata": {
        "id": "gr2F9uQpAJwq"
      }
    },
    {
      "cell_type": "code",
      "source": [
        "y_pred = model.predict(X_test)\n",
        "print(f'Final Accuracy: {accuracy_score(y_test, y_pred)}')\n",
        "print(f'Precision: {precision_score(y_test, y_pred)}')\n",
        "print(f'Recall: {recall_score(y_test, y_pred)}')\n",
        "print(f'F1 Score: {f1_score(y_test, y_pred)}')\n"
      ],
      "metadata": {
        "colab": {
          "base_uri": "https://localhost:8080/"
        },
        "id": "lVv-ADRJ_Fvc",
        "outputId": "059dad0b-7af3-489c-c177-e5c7932ce1b7"
      },
      "execution_count": 12,
      "outputs": [
        {
          "output_type": "stream",
          "name": "stdout",
          "text": [
            "Final Accuracy: 0.8044692737430168\n",
            "Precision: 0.782608695652174\n",
            "Recall: 0.7297297297297297\n",
            "F1 Score: 0.7552447552447553\n"
          ]
        }
      ]
    },
    {
      "cell_type": "markdown",
      "source": [
        "To ensure that our model's performance is reliable and not due to a particular random split of the data, we perform cross-validation. Cross-validation involves splitting the data multiple times and averaging the performance metrics.\n"
      ],
      "metadata": {
        "id": "dNvh69lxAM13"
      }
    },
    {
      "cell_type": "code",
      "source": [
        "from sklearn.model_selection import cross_val_score,cross_validate\n",
        "import numpy as np\n",
        "\n",
        "# Use cross_validate to get multiple scores\n",
        "cv_results = cross_validate(model, X_test, y_test, cv=5, \n",
        "                            scoring=('accuracy', 'precision', 'recall', 'f1'))\n",
        "\n",
        "# Display scores with their mean and standard deviation\n",
        "for score in ['test_accuracy', 'test_precision', 'test_recall', 'test_f1']:\n",
        "    mean_score = np.mean(cv_results[score])\n",
        "    std_score = np.std(cv_results[score])\n",
        "    print(f\"{score}: {mean_score:.2f} (+/- {std_score:.2f})\")\n"
      ],
      "metadata": {
        "colab": {
          "base_uri": "https://localhost:8080/"
        },
        "id": "PrBTmDBi_IF3",
        "outputId": "0655a4a1-1100-44cf-c678-464050621b09"
      },
      "execution_count": 13,
      "outputs": [
        {
          "output_type": "stream",
          "name": "stdout",
          "text": [
            "test_accuracy: 0.85 (+/- 0.06)\n",
            "test_precision: 0.84 (+/- 0.07)\n",
            "test_recall: 0.80 (+/- 0.11)\n",
            "test_f1: 0.82 (+/- 0.08)\n"
          ]
        }
      ]
    }
  ]
}